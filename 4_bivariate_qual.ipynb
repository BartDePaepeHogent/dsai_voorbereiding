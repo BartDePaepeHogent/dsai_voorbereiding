{
 "cells": [
  {
   "cell_type": "code",
   "execution_count": 2,
   "metadata": {
    "collapsed": true,
    "pycharm": {
     "name": "#%%\n"
    }
   },
   "outputs": [],
   "source": [
    "# Importing the necessary packages\n",
    "import numpy as np                                  # \"Scientific computing\"\n",
    "import scipy.stats as stats                         # Statistical tests\n",
    "\n",
    "import pandas as pd                                 # Data Frame\n",
    "from pandas.api.types import CategoricalDtype\n",
    "\n",
    "import matplotlib.pyplot as plt                     # Basic visualisation\n",
    "from statsmodels.graphics.mosaicplot import mosaic  # Mosaic diagram\n",
    "import seaborn as sns                               # Advanced data visualisation"
   ]
  },
  {
   "cell_type": "code",
   "execution_count": 3,
   "outputs": [],
   "source": [
    "rlanders = pd.read_csv('https://raw.githubusercontent.com/HoGentTIN/dsai-en-labs/main/data/rlanders.csv').set_index(['ID'])\n",
    "rlanders.Gender = rlanders.Gender.astype('category')\n",
    "likert_scale = CategoricalDtype(categories=[1,2,3,4,5], ordered=True)\n",
    "rlanders.Survey = rlanders.Survey.astype(likert_scale)\n",
    "# rlanders.info()\n",
    "# rlanders.Survey.dtype"
   ],
   "metadata": {
    "collapsed": false,
    "pycharm": {
     "name": "#%%\n"
    }
   }
  },
  {
   "cell_type": "markdown",
   "source": [
    "## Contingency tables and visualisation techniques"
   ],
   "metadata": {
    "collapsed": false,
    "pycharm": {
     "name": "#%% md\n"
    }
   }
  },
  {
   "cell_type": "code",
   "execution_count": 3,
   "outputs": [
    {
     "data": {
      "text/plain": "Gender  Female  Male  All\nSurvey                   \n1            0     4    4\n2           17    45   62\n3           23    91  114\n4           12    53   65\n5            0     5    5\nAll         52   198  250",
      "text/html": "<div>\n<style scoped>\n    .dataframe tbody tr th:only-of-type {\n        vertical-align: middle;\n    }\n\n    .dataframe tbody tr th {\n        vertical-align: top;\n    }\n\n    .dataframe thead th {\n        text-align: right;\n    }\n</style>\n<table border=\"1\" class=\"dataframe\">\n  <thead>\n    <tr style=\"text-align: right;\">\n      <th>Gender</th>\n      <th>Female</th>\n      <th>Male</th>\n      <th>All</th>\n    </tr>\n    <tr>\n      <th>Survey</th>\n      <th></th>\n      <th></th>\n      <th></th>\n    </tr>\n  </thead>\n  <tbody>\n    <tr>\n      <th>1</th>\n      <td>0</td>\n      <td>4</td>\n      <td>4</td>\n    </tr>\n    <tr>\n      <th>2</th>\n      <td>17</td>\n      <td>45</td>\n      <td>62</td>\n    </tr>\n    <tr>\n      <th>3</th>\n      <td>23</td>\n      <td>91</td>\n      <td>114</td>\n    </tr>\n    <tr>\n      <th>4</th>\n      <td>12</td>\n      <td>53</td>\n      <td>65</td>\n    </tr>\n    <tr>\n      <th>5</th>\n      <td>0</td>\n      <td>5</td>\n      <td>5</td>\n    </tr>\n    <tr>\n      <th>All</th>\n      <td>52</td>\n      <td>198</td>\n      <td>250</td>\n    </tr>\n  </tbody>\n</table>\n</div>"
     },
     "execution_count": 3,
     "metadata": {},
     "output_type": "execute_result"
    }
   ],
   "source": [
    "pd.crosstab(rlanders.Survey, rlanders.Gender, margins=True)"
   ],
   "metadata": {
    "collapsed": false,
    "pycharm": {
     "name": "#%%\n"
    }
   }
  },
  {
   "cell_type": "code",
   "execution_count": null,
   "outputs": [],
   "source": [
    "sns.catplot(data=rlanders, x='Survey', hue='Gender', kind='count')"
   ],
   "metadata": {
    "collapsed": false,
    "pycharm": {
     "name": "#%%\n"
    }
   }
  },
  {
   "cell_type": "markdown",
   "source": [
    "| Cramér's V | Interpretation          |\n",
    "| :---:      | :---                    |\n",
    "| 0          | No association          |\n",
    "| 0.1        | Weak association        |\n",
    "| 0.25       | Moderate association    |\n",
    "| 0.50       | Strong association      |\n",
    "| 0.75       | Very strong association |\n",
    "| 1          | Complete association    |"
   ],
   "metadata": {
    "collapsed": false,
    "pycharm": {
     "name": "#%% md\n"
    }
   }
  },
  {
   "cell_type": "markdown",
   "source": [
    "## The chi-squared test for independence"
   ],
   "metadata": {
    "collapsed": false,
    "pycharm": {
     "name": "#%% md\n"
    }
   }
  },
  {
   "cell_type": "markdown",
   "source": [
    "1. Formulate the hypotheses:\n",
    "   - $H_0$: There is no association between the variables (the differences between observed and expected values are small)\n",
    "   - $H_1$: There is an association between the variables (the differences are large)\n",
    "2. Choose significance level $\\alpha$\n",
    "3. Calculate the value of the test statistic in the sample (here: $\\chi^2$).\n",
    "4. Use one of the following methods (based on the degrees of freedom $df = (r-1) \\times (k-1)$):\n",
    "   1. Determine critical value $g$ so $P(\\chi^2 > g) = \\alpha$\n",
    "   2. Calculate the $p$-value\n",
    "5. Draw a conclusion based on the outcome:\n",
    "   1. $\\chi^2 < g$: do not reject $H_0$; $\\chi^2 > g$: reject $H_0$\n",
    "   2. $p > \\alpha$: do not reject $H_0$; $p < \\alpha$: reject $H_0$"
   ],
   "metadata": {
    "collapsed": false,
    "pycharm": {
     "name": "#%% md\n"
    }
   }
  },
  {
   "cell_type": "code",
   "execution_count": 4,
   "outputs": [
    {
     "name": "stdout",
     "output_type": "stream",
     "text": [
      "Chi-squared       : 4.2555\n",
      "Degrees of freedom: 4\n",
      "P-value           : 0.3725\n"
     ]
    }
   ],
   "source": [
    "observed = pd.crosstab(rlanders.Survey, rlanders.Gender)\n",
    "alpha = .05\n",
    "chi2, p, df, expected = stats.chi2_contingency(observed)\n",
    "\n",
    "print(\"Chi-squared       : %.4f\" % chi2)\n",
    "print(\"Degrees of freedom: %d\" % df)\n",
    "print(\"P-value           : %.4f\" % p)"
   ],
   "metadata": {
    "collapsed": false,
    "pycharm": {
     "name": "#%%\n"
    }
   }
  },
  {
   "cell_type": "code",
   "execution_count": 5,
   "outputs": [
    {
     "data": {
      "text/plain": "<matplotlib.lines.Line2D at 0x27a0126a2b0>"
     },
     "execution_count": 5,
     "metadata": {},
     "output_type": "execute_result"
    },
    {
     "data": {
      "text/plain": "<Figure size 432x288 with 1 Axes>",
      "image/png": "[encoded data removed]"
     },
     "metadata": {
      "needs_background": "light"
     },
     "output_type": "display_data"
    }
   ],
   "source": [
    "# Is there an association between Gender and Survey?\n",
    "\n",
    "# x-values:\n",
    "x = np.linspace(0, 15, num=100)\n",
    "# probability density of the chi-squared distribution with 4 degrees of freedom\n",
    "y = stats.chi2.pdf(x, df=df)\n",
    "# the number q for which the right tail probability is exactly 5%:\n",
    "q = stats.chi2.isf(alpha, df=4)  # TODO: CHECK this!\n",
    "\n",
    "fig, tplot = plt.subplots(1, 1)\n",
    "tplot.plot(x, y)                     # probability density\n",
    "tplot.fill_between(x, y, where=x>=q, # critical area\n",
    "    color='lightblue')\n",
    "tplot.axvline(q)                     # critical value\n",
    "tplot.axvline(chi2, color='orange')  # chi-squared"
   ],
   "metadata": {
    "collapsed": false,
    "pycharm": {
     "name": "#%%\n"
    }
   }
  },
  {
   "cell_type": "code",
   "execution_count": 6,
   "outputs": [
    {
     "name": "stdout",
     "output_type": "stream",
     "text": [
      "Critical value     : 9.4877\n"
     ]
    }
   ],
   "source": [
    "# Calculate critical value\n",
    "g = stats.chi2.isf(alpha, df = df)\n",
    "print(\"Critical value     : %.4f\" % g)"
   ],
   "metadata": {
    "collapsed": false,
    "pycharm": {
     "name": "#%%\n"
    }
   }
  },
  {
   "cell_type": "markdown",
   "source": [
    "## Goodness-of-fit test"
   ],
   "metadata": {
    "collapsed": false,
    "pycharm": {
     "name": "#%% md\n"
    }
   }
  },
  {
   "cell_type": "code",
   "execution_count": 7,
   "outputs": [],
   "source": [
    "types =               ['mutant', 'human', 'alien', 'god', 'demon']\n",
    "observed =   np.array([   127,      75,      98,     27,     73])\n",
    "expected_p = np.array([   .35,     .17,     .23,    .08,    .17])"
   ],
   "metadata": {
    "collapsed": false,
    "pycharm": {
     "name": "#%%\n"
    }
   }
  },
  {
   "cell_type": "markdown",
   "source": [
    "1. Formulate the hypotheses:\n",
    "   - $H_0$: The sample is representative of the population, i.e. the frequency of each class within the sample corresponds well to that in the population.\n",
    "   - $H_1$: The sample is *not* representative of the population, i.e. the differences with the expected frequencies are too large.\n",
    "2. Choose significance level $\\alpha$\n",
    "3. Calculate the value of the test statistic in the sample (here: $\\chi^2$).\n",
    "4. Use one of the following methods (based on the degrees of freedom $df = (k-1)$ with $k$ the number of categories in the sample):\n",
    "   1. Determine critical value $g$ so $P(\\chi^2 > g) = \\alpha$\n",
    "   2. Calculate the $p$-value\n",
    "5. Draw a conclusion based on the outcome:\n",
    "   1. $\\chi^2 < g$: do not reject $H_0$; $\\chi^2 > g$: reject $H_0$\n",
    "   2. $p > \\alpha$: do not reject $H_0$; $p < \\alpha$: reject $H_0$"
   ],
   "metadata": {
    "collapsed": false,
    "pycharm": {
     "name": "#%% md\n"
    }
   }
  },
  {
   "cell_type": "code",
   "execution_count": 8,
   "outputs": [
    {
     "name": "stdout",
     "output_type": "stream",
     "text": [
      "Significance level  ⍺ = 0.05\n",
      "Sample size         n = 400\n",
      "k = 5; df = 4\n",
      "Chi-squared        χ² = 3.4679\n",
      "Critical value      g = 9.4877\n",
      "p-value             p = 0.4828\n"
     ]
    }
   ],
   "source": [
    "alpha = 0.05               # Significance level\n",
    "n = sum(observed)          # Sample size\n",
    "k = len(observed)          # Number of categories\n",
    "dof = k - 1                # Degrees of freedom\n",
    "expected = expected_p * n  # Expected absolute frequencies in the sample\n",
    "g = stats.chi2.isf(alpha, df=dof)  # Critical value\n",
    "chi2, p = stats.chisquare(f_obs=observed, f_exp=expected)\n",
    "print(\"Significance level  ⍺ = %.2f\" % alpha)\n",
    "print(\"Sample size         n = %d\" % n)\n",
    "print(\"k = %d; df = %d\" % (k, dof))\n",
    "print(\"Chi-squared        χ² = %.4f\" % chi2)\n",
    "print(\"Critical value      g = %.4f\" % g)\n",
    "print(\"p-value             p = %.4f\" % p)"
   ],
   "metadata": {
    "collapsed": false,
    "pycharm": {
     "name": "#%%\n"
    }
   }
  },
  {
   "cell_type": "code",
   "execution_count": 9,
   "outputs": [
    {
     "data": {
      "text/plain": "<matplotlib.lines.Line2D at 0x27a011f3bb0>"
     },
     "execution_count": 9,
     "metadata": {},
     "output_type": "execute_result"
    },
    {
     "data": {
      "text/plain": "<Figure size 432x288 with 1 Axes>",
      "image/png": "[encoded data removed]"
     },
     "metadata": {
      "needs_background": "light"
     },
     "output_type": "display_data"
    }
   ],
   "source": [
    "# Plot of the case:\n",
    "# x-values:\n",
    "x = np.linspace(0, 15, num=100)\n",
    "# probability density of the chi-squared distribution with 4 degrees of freedom\n",
    "y = stats.chi2.pdf(x, df=dof)\n",
    "# the number q for which the right tail probability is exactly 5%:\n",
    "q = stats.chi2.isf(alpha, df=dof)\n",
    "\n",
    "fig, tplot = plt.subplots(1, 1)\n",
    "tplot.plot(x, y)                     # probability density\n",
    "tplot.fill_between(x, y, where=x>=q, # critical area\n",
    "    color='lightblue')\n",
    "tplot.axvline(q)                     # critical value\n",
    "tplot.axvline(chi2, color='orange')  # chi-squared"
   ],
   "metadata": {
    "collapsed": false,
    "pycharm": {
     "name": "#%%\n"
    }
   }
  },
  {
   "cell_type": "markdown",
   "source": [
    "## Standardised residuals"
   ],
   "metadata": {
    "collapsed": false,
    "pycharm": {
     "name": "#%% md\n"
    }
   }
  },
  {
   "cell_type": "code",
   "execution_count": 10,
   "outputs": [],
   "source": [
    "families = pd.DataFrame(\n",
    "    np.array(\n",
    "        [[0,  58],\n",
    "         [1, 149],\n",
    "         [2, 305],\n",
    "         [3, 303],\n",
    "         [4, 162],\n",
    "         [5,  45]]),\n",
    "    columns=['num_boys', \"observed\"])\n",
    "families.set_index(['num_boys'])\n",
    "n = families.observed.sum() # sample size"
   ],
   "metadata": {
    "collapsed": false,
    "pycharm": {
     "name": "#%%\n"
    }
   }
  },
  {
   "cell_type": "code",
   "execution_count": 11,
   "outputs": [
    {
     "data": {
      "text/plain": "   num_boys  observed  expected_p  expected\n0         0        58     0.03125   31.9375\n1         1       149     0.15625  159.6875\n2         2       305     0.31250  319.3750\n3         3       303     0.31250  319.3750\n4         4       162     0.15625  159.6875\n5         5        45     0.03125   31.9375",
      "text/html": "<div>\n<style scoped>\n    .dataframe tbody tr th:only-of-type {\n        vertical-align: middle;\n    }\n\n    .dataframe tbody tr th {\n        vertical-align: top;\n    }\n\n    .dataframe thead th {\n        text-align: right;\n    }\n</style>\n<table border=\"1\" class=\"dataframe\">\n  <thead>\n    <tr style=\"text-align: right;\">\n      <th></th>\n      <th>num_boys</th>\n      <th>observed</th>\n      <th>expected_p</th>\n      <th>expected</th>\n    </tr>\n  </thead>\n  <tbody>\n    <tr>\n      <th>0</th>\n      <td>0</td>\n      <td>58</td>\n      <td>0.03125</td>\n      <td>31.9375</td>\n    </tr>\n    <tr>\n      <th>1</th>\n      <td>1</td>\n      <td>149</td>\n      <td>0.15625</td>\n      <td>159.6875</td>\n    </tr>\n    <tr>\n      <th>2</th>\n      <td>2</td>\n      <td>305</td>\n      <td>0.31250</td>\n      <td>319.3750</td>\n    </tr>\n    <tr>\n      <th>3</th>\n      <td>3</td>\n      <td>303</td>\n      <td>0.31250</td>\n      <td>319.3750</td>\n    </tr>\n    <tr>\n      <th>4</th>\n      <td>4</td>\n      <td>162</td>\n      <td>0.15625</td>\n      <td>159.6875</td>\n    </tr>\n    <tr>\n      <th>5</th>\n      <td>5</td>\n      <td>45</td>\n      <td>0.03125</td>\n      <td>31.9375</td>\n    </tr>\n  </tbody>\n</table>\n</div>"
     },
     "execution_count": 11,
     "metadata": {},
     "output_type": "execute_result"
    }
   ],
   "source": [
    "from scipy.special import binom # binomial-function\n",
    "\n",
    "# probability for a boy\n",
    "prob_boy = .5\n",
    "# Add new colum to the data frame for the expected percentages\n",
    "families['expected_p'] = binom(5, families.num_boys) * prob_boy**families.num_boys * prob_boy**(5-families.num_boys)\n",
    "# Expected absolute frequencies in the sample:\n",
    "families['expected'] = families['expected_p'] * n\n",
    "families"
   ],
   "metadata": {
    "collapsed": false,
    "pycharm": {
     "name": "#%%\n"
    }
   }
  },
  {
   "cell_type": "markdown",
   "source": [
    "1. Formulate the hypotheses:\n",
    "   - $H_0$: The sample is representative for the population.\n",
    "   - $H_1$: The sample is *not* representative of the population.\n",
    "2. Determine $\\alpha$ and n\n",
    "3. Calculate the value of the test statistic in the sample (here: $\\chi^2$).\n",
    "4. Use one of the following methods (based on the degrees of freedom $df = (k-1)$ with $k$ the number of categories in the sample):\n",
    "   1. Determine critical value $g$ so $P(\\chi^2 > g) = \\alpha$\n",
    "   2. Calculate the $p$-value\n",
    "5. Draw a conclusion based on the outcome:\n",
    "   1. $\\chi^2 < g$: do not reject $H_0$; $\\chi^2 > g$: reject $H_0$\n",
    "   2. $p > \\alpha$: do not reject $H_0$; $p < \\alpha$: reject $H_0$"
   ],
   "metadata": {
    "collapsed": false,
    "pycharm": {
     "name": "#%% md\n"
    }
   }
  },
  {
   "cell_type": "code",
   "execution_count": 12,
   "outputs": [
    {
     "name": "stdout",
     "output_type": "stream",
     "text": [
      "Chi-squared   χ² = 28.8462\n",
      "Critical value g = 15.0863\n",
      "p-value        p = 0.000025\n"
     ]
    }
   ],
   "source": [
    "alpha=0.01                         # significance level\n",
    "dof=len(families)-1                # degrees of freedom\n",
    "g = stats.chi2.isf(alpha, df=dof)  # Critical value\n",
    "# Perform Chi-squared test, calculate χ² and p\n",
    "chi2, p = stats.chisquare(f_obs=families.observed, f_exp=families.expected)\n",
    "\n",
    "print(\"Chi-squared   χ² = %.4f\" % chi2)\n",
    "print(\"Critical value g = %.4f\" % g)\n",
    "print(\"p-value        p = %f\"   % p)"
   ],
   "metadata": {
    "collapsed": false,
    "pycharm": {
     "name": "#%%\n"
    }
   }
  },
  {
   "cell_type": "code",
   "execution_count": 13,
   "outputs": [
    {
     "data": {
      "text/plain": "<matplotlib.lines.Line2D at 0x27a0351f850>"
     },
     "execution_count": 13,
     "metadata": {},
     "output_type": "execute_result"
    },
    {
     "data": {
      "text/plain": "<Figure size 432x288 with 1 Axes>",
      "image/png": "[encoded data removed]"
     },
     "metadata": {
      "needs_background": "light"
     },
     "output_type": "display_data"
    }
   ],
   "source": [
    "# x-values:\n",
    "x = np.linspace(0, 30, num=200)\n",
    "# probability density of the chi-squared distribution\n",
    "y = stats.chi2.pdf(x, df=dof)\n",
    "# the number q for which the right tail probability is exactly 1%:\n",
    "q = stats.chi2.isf(alpha, df=4)  # TODO: CHECK this!\n",
    "\n",
    "fig, tplot = plt.subplots(1, 1)\n",
    "tplot.plot(x, y)                     # probability density\n",
    "tplot.fill_between(x, y, where=x>=q, # critical area\n",
    "    color='lightblue')\n",
    "tplot.axvline(q)                     # critical value\n",
    "tplot.axvline(chi2, color='orange')  # chi-squared"
   ],
   "metadata": {
    "collapsed": false,
    "pycharm": {
     "name": "#%%\n"
    }
   }
  },
  {
   "cell_type": "code",
   "execution_count": 14,
   "outputs": [
    {
     "data": {
      "text/plain": "   num_boys  observed  expected_p  expected    stdres\n0         0        58     0.03125   31.9375  4.685541\n1         1       149     0.15625  159.6875 -0.920733\n2         2       305     0.31250  319.3750 -0.970110\n3         3       303     0.31250  319.3750 -1.105082\n4         4       162     0.15625  159.6875  0.199223\n5         5        45     0.03125   31.9375  2.348389",
      "text/html": "<div>\n<style scoped>\n    .dataframe tbody tr th:only-of-type {\n        vertical-align: middle;\n    }\n\n    .dataframe tbody tr th {\n        vertical-align: top;\n    }\n\n    .dataframe thead th {\n        text-align: right;\n    }\n</style>\n<table border=\"1\" class=\"dataframe\">\n  <thead>\n    <tr style=\"text-align: right;\">\n      <th></th>\n      <th>num_boys</th>\n      <th>observed</th>\n      <th>expected_p</th>\n      <th>expected</th>\n      <th>stdres</th>\n    </tr>\n  </thead>\n  <tbody>\n    <tr>\n      <th>0</th>\n      <td>0</td>\n      <td>58</td>\n      <td>0.03125</td>\n      <td>31.9375</td>\n      <td>4.685541</td>\n    </tr>\n    <tr>\n      <th>1</th>\n      <td>1</td>\n      <td>149</td>\n      <td>0.15625</td>\n      <td>159.6875</td>\n      <td>-0.920733</td>\n    </tr>\n    <tr>\n      <th>2</th>\n      <td>2</td>\n      <td>305</td>\n      <td>0.31250</td>\n      <td>319.3750</td>\n      <td>-0.970110</td>\n    </tr>\n    <tr>\n      <th>3</th>\n      <td>3</td>\n      <td>303</td>\n      <td>0.31250</td>\n      <td>319.3750</td>\n      <td>-1.105082</td>\n    </tr>\n    <tr>\n      <th>4</th>\n      <td>4</td>\n      <td>162</td>\n      <td>0.15625</td>\n      <td>159.6875</td>\n      <td>0.199223</td>\n    </tr>\n    <tr>\n      <th>5</th>\n      <td>5</td>\n      <td>45</td>\n      <td>0.03125</td>\n      <td>31.9375</td>\n      <td>2.348389</td>\n    </tr>\n  </tbody>\n</table>\n</div>"
     },
     "execution_count": 14,
     "metadata": {},
     "output_type": "execute_result"
    }
   ],
   "source": [
    "# standardised residuals\n",
    "families['stdres'] = (families.observed - families.expected) / np.sqrt(families.expected * (1 - families.expected_p))\n",
    "families"
   ],
   "metadata": {
    "collapsed": false,
    "pycharm": {
     "name": "#%%\n"
    }
   }
  },
  {
   "cell_type": "markdown",
   "source": [
    "## Cochran's rule\n",
    "\n",
    "A chi-squared test can only give good results if you have enough observations in each category. The statistician Cochran (1954) formulated a rule of thumb to determine what exactly *enough* is on contingency tables larger than 2x2:\n",
    "\n",
    "- All expected values must be at least 1\n",
    "- At most 20% of the expected values may be smaller than 5"
   ],
   "metadata": {
    "collapsed": false,
    "pycharm": {
     "name": "#%% md\n"
    }
   }
  },
  {
   "cell_type": "code",
   "execution_count": null,
   "outputs": [],
   "source": [],
   "metadata": {
    "collapsed": false,
    "pycharm": {
     "name": "#%%\n"
    }
   }
  }
 ],
 "metadata": {
  "kernelspec": {
   "display_name": "Python 3",
   "language": "python",
   "name": "python3"
  },
  "language_info": {
   "codemirror_mode": {
    "name": "ipython",
    "version": 2
   },
   "file_extension": ".py",
   "mimetype": "text/x-python",
   "name": "python",
   "nbconvert_exporter": "python",
   "pygments_lexer": "ipython2",
   "version": "2.7.6"
  }
 },
 "nbformat": 4,
 "nbformat_minor": 0
}