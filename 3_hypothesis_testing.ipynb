{
 "cells": [
  {
   "cell_type": "code",
   "execution_count": 1,
   "metadata": {
    "collapsed": true,
    "pycharm": {
     "name": "#%%\n"
    }
   },
   "outputs": [],
   "source": [
    "# Importing the necessary packages\n",
    "import numpy as np                                  # \"Scientific computing\"\n",
    "import scipy.stats as stats                         # Statistical tests\n",
    "\n",
    "import pandas as pd                                 # Data Frame\n",
    "from pandas.api.types import CategoricalDtype\n",
    "\n",
    "import matplotlib.pyplot as plt                     # Basic visualisation\n",
    "from statsmodels.graphics.mosaicplot import mosaic  # Mosaic diagram\n",
    "import seaborn as sns                               # Advanced data visualisation"
   ]
  },
  {
   "cell_type": "markdown",
   "source": [
    "The $z$-test is used to confirm or refute an assumption about the (unknown) *population mean*, based on a sufficiently large sample."
   ],
   "metadata": {
    "collapsed": false,
    "pycharm": {
     "name": "#%% md\n"
    }
   }
  },
  {
   "cell_type": "markdown",
   "source": [
    "**Step 1.** Formulate the hypotheses:\n",
    "\n",
    "- $H_0: \\mu = 3.3$\n",
    "- $H_1: \\mu > 3.3$\n",
    "\n",
    "**Step 2.** Choose a significance level, e.g. $\\alpha = 0.05$"
   ],
   "metadata": {
    "collapsed": false,
    "pycharm": {
     "name": "#%% md\n"
    }
   }
  },
  {
   "cell_type": "code",
   "execution_count": 2,
   "outputs": [],
   "source": [
    "# Properties of the sample:\n",
    "n = 30      # sample size\n",
    "sm = 3.483  # sample mean\n",
    "s = 0.55    # population standard deviation (assumed to be known)\n",
    "a = 0.05    # significance level (chosen by the researcher)\n",
    "m0 = 3.3    # hypothetical population mean (H0)"
   ],
   "metadata": {
    "collapsed": false,
    "pycharm": {
     "name": "#%%\n"
    }
   }
  },
  {
   "cell_type": "markdown",
   "source": [
    "**Step 3.** Determine the value of the test statistic, in this case $\\overline{x} = 3.483$\n",
    "\n",
    "**Step 4.** Determine the $p$-value and reject $H_0$ if $p < \\alpha$."
   ],
   "metadata": {
    "collapsed": false,
    "pycharm": {
     "name": "#%% md\n"
    }
   }
  },
  {
   "cell_type": "code",
   "execution_count": 3,
   "outputs": [
    {
     "name": "stdout",
     "output_type": "stream",
     "text": [
      "p-value: 0.03420\n",
      "p < a: reject H0\n"
     ]
    }
   ],
   "source": [
    "p = stats.norm.sf(sm, loc=m0, scale=s/np.sqrt(n))\n",
    "print(\"p-value: %.5f\" % p)\n",
    "if(p < a):\n",
    "    print(\"p < a: reject H0\")\n",
    "else:\n",
    "    print(\"p > a: do not reject H0\")"
   ],
   "metadata": {
    "collapsed": false,
    "pycharm": {
     "name": "#%%\n"
    }
   }
  },
  {
   "cell_type": "markdown",
   "source": [
    "An alternative method is to determine the critical region, i.e. the set of all values for the sample mean where $H_0$ may be rejected. The boundary of that area is called the critical value $g$. To the left of it you can't reject $H_0$ (acceptance region), to the right you can (critical region). The area of the acceptance region is $1 - \\alpha$, the area of the critical region is $\\alpha$."
   ],
   "metadata": {
    "collapsed": false,
    "pycharm": {
     "name": "#%% md\n"
    }
   }
  },
  {
   "cell_type": "code",
   "execution_count": 5,
   "outputs": [
    {
     "name": "stdout",
     "output_type": "stream",
     "text": [
      "Critical value g ≃ 3.465\n",
      "sample mean = 3.483 > g = 3.465: reject H0\n"
     ]
    }
   ],
   "source": [
    "# Critical value according to the formula in the lecture slides\n",
    "#g = m0 + stats.norm.isf(a) * s / np.sqrt(n)\n",
    "# Making use of the loc/scale parameters of isf:\n",
    "g = stats.norm.isf(a, loc=m0, scale=s / np.sqrt(n)) #\n",
    "print(\"Critical value g ≃ %.3f\" % g)\n",
    "if (sm < g):\n",
    "    print(\"sample mean = %.3f < g = %.3f: do not reject H0\" % (sm, g))\n",
    "else:\n",
    "    print(\"sample mean = %.3f > g = %.3f: reject H0\" % (sm, g))"
   ],
   "metadata": {
    "collapsed": false,
    "pycharm": {
     "name": "#%%\n"
    }
   }
  },
  {
   "cell_type": "code",
   "execution_count": 6,
   "outputs": [
    {
     "data": {
      "text/plain": "<matplotlib.collections.PolyCollection at 0x2f0487c8130>"
     },
     "execution_count": 6,
     "metadata": {},
     "output_type": "execute_result"
    },
    {
     "data": {
      "text/plain": "<Figure size 432x288 with 1 Axes>",
      "image/png": "[encoded data removed]"
     },
     "metadata": {
      "needs_background": "light"
     },
     "output_type": "display_data"
    }
   ],
   "source": [
    "# Gauss-curve plot:\n",
    "# X-values\n",
    "dist_x = np.linspace(m0 - 4 * s/np.sqrt(n), m0 + 4 * s/np.sqrt(n), num=201)\n",
    "# Y-values for the Gauss curve\n",
    "dist_y = stats.norm.pdf(dist_x, m0, s/np.sqrt(n))\n",
    "fig, dplot = plt.subplots(1, 1)\n",
    "# Plot the Gauss-curve\n",
    "dplot.plot(dist_x, dist_y)\n",
    "# Show the hypothetical population mean with an orange line\n",
    "dplot.axvline(m0, color=\"orange\", lw=2)\n",
    "# Show the sample mean with a red line\n",
    "dplot.axvline(sm, color=\"red\")\n",
    "# Fill the acceptance area in light blue\n",
    "dplot.fill_between(dist_x, 0, dist_y, where=dist_x <= g, color='lightblue')"
   ],
   "metadata": {
    "collapsed": false,
    "pycharm": {
     "name": "#%%\n"
    }
   }
  },
  {
   "cell_type": "markdown",
   "source": [
    "### The left-tailed $z$-test\n",
    "\n",
    "**Step 1.** Formulate the hypotheses:\n",
    "\n",
    "- $H_0: \\mu = 3.3$\n",
    "- $H_1: \\mu < 3.3$\n",
    "\n",
    "**Step 2.** Choose significance level, e.g. $\\alpha = 0.05$"
   ],
   "metadata": {
    "collapsed": false,
    "pycharm": {
     "name": "#%% md\n"
    }
   }
  },
  {
   "cell_type": "code",
   "execution_count": null,
   "outputs": [],
   "source": [
    "p = stats.norm.cdf(sm, loc=m0, scale=s/np.sqrt(n)) # Let op! cdf() ipv sf()!\n",
    "print(\"p-waarde: %.5f\" % p)\n",
    "if(p < a):\n",
    "    print(\"p < a, dus H0 verwerpen\")\n",
    "else:\n",
    "    print(\"p > a, dus H0 niet verwerpen\")"
   ],
   "metadata": {
    "collapsed": false,
    "pycharm": {
     "name": "#%%\n"
    }
   }
  },
  {
   "cell_type": "markdown",
   "source": [
    "### The two-tailed $z$-test\n",
    "\n",
    "When we don't want to test whether the population mean is either greater or lower than a hypothetical value, but only want to know if the sample mean is \"close enough\", we can use a two-tailed $z$-test.\n",
    "\n",
    "**Step 1.** Formulate the hypotheses:\n",
    "\n",
    "- $H_0: \\mu = 3.3$\n",
    "- $H_1: \\mu \\ne 3.3$\n",
    "\n",
    "**Step 2.** Choose significance level, e.g. $\\alpha = 0.05$"
   ],
   "metadata": {
    "collapsed": false,
    "pycharm": {
     "name": "#%% md\n"
    }
   }
  },
  {
   "cell_type": "code",
   "execution_count": null,
   "outputs": [],
   "source": [
    "p = stats.norm.sf(sm, loc=m0, scale=s/np.sqrt(n))\n",
    "print(\"p-waarde: %.5f\" % p)\n",
    "if(p < a/2):\n",
    "    print(\"p < a/2, dus H0 verwerpen\")\n",
    "else:\n",
    "    print(\"p > a/2, dus H0 niet verwerpen\")"
   ],
   "metadata": {
    "collapsed": false,
    "pycharm": {
     "name": "#%%\n"
    }
   }
  },
  {
   "cell_type": "code",
   "execution_count": null,
   "outputs": [],
   "source": [
    "g1 = m0 - stats.norm.isf(a/2) * s / np.sqrt(n)\n",
    "g2 = m0 + stats.norm.isf(a/2) * s / np.sqrt(n)\n",
    "\n",
    "print(\"Acceptance region [g1, g2] ≃ [%.3f, %.3f]\" % (g1,g2))\n",
    "if (g1 < sm and sm < g2):\n",
    "    print(\"Sample mean = %.3f is inside acceptance region: do not reject H0\" % sm)\n",
    "else:\n",
    "    print(\"Sample mean = %.3f is outside acceptance region: reject H0\" % sm)"
   ],
   "metadata": {
    "collapsed": false,
    "pycharm": {
     "name": "#%%\n"
    }
   }
  },
  {
   "cell_type": "code",
   "execution_count": null,
   "outputs": [],
   "source": [
    "# Gauss-curve\n",
    "# X-values\n",
    "dist_x = np.linspace(m0 - 4 * s/np.sqrt(n), m0 + 4 * s/np.sqrt(n), num=201)\n",
    "# Y-values\n",
    "dist_y = stats.norm.pdf(dist_x, loc=m0, scale=s/np.sqrt(n))\n",
    "fig, dplot = plt.subplots(1, 1)\n",
    "# Plot\n",
    "dplot.plot(dist_x, dist_y)\n",
    "# Hypothetical population mean in orange\n",
    "dplot.axvline(m0, color=\"orange\", lw=2)\n",
    "# Sample mean in red\n",
    "dplot.axvline(sm, color=\"red\")\n",
    "acc_x = np.linspace(g1, g2, num=101)\n",
    "acc_y = stats.norm.pdf(acc_x, loc=m0, scale=s/np.sqrt(n))\n",
    "# Fill the acceptance region in light blue\n",
    "dplot.fill_between(acc_x, 0, acc_y, color='lightblue')"
   ],
   "metadata": {
    "collapsed": false,
    "pycharm": {
     "name": "#%%\n"
    }
   }
  },
  {
   "cell_type": "markdown",
   "source": [
    "### Right-tailed $t$-test\n",
    "\n",
    "Suppose that the superhero researchers were unable to take a sufficiently large sample due to time constraints and only made $n = 20$ observations, with the same sample mean $\\overline{x} = 3,483$. The standard deviation in this sample turned out to be $s = 0.55$.\n",
    "\n",
    "In these circumstances, with the same significance level $\\alpha = 0.05$, can we sustain the conclusion that superheroes save *more* than 3.3 people every day?\n",
    "\n",
    "The testing procedure then goes as follows:\n",
    "\n",
    "**Step 1.** Formulate the hypotheses:\n",
    "\n",
    "- $H_0: \\mu = 3.3$\n",
    "- $H_1: \\mu > 3.3$\n",
    "\n",
    "**Step 2.** Choose significance level, e.g. $\\alpha = 0.05$"
   ],
   "metadata": {
    "collapsed": false,
    "pycharm": {
     "name": "#%% md\n"
    }
   }
  },
  {
   "cell_type": "code",
   "execution_count": null,
   "outputs": [],
   "source": [
    "# Properties of the sample:\n",
    "n = 20      # sample size\n",
    "sm = 3.483  # sample mean\n",
    "ss = 0.55   # sample(!) standard deviation\n",
    "a = 0.05    # significance level (chosen by the researcher)\n",
    "m0 = 3.3    # hypothetical population mean (H0)"
   ],
   "metadata": {
    "collapsed": false,
    "pycharm": {
     "name": "#%%\n"
    }
   }
  },
  {
   "cell_type": "code",
   "execution_count": null,
   "outputs": [],
   "source": [
    "# Remark that we use the t-distribution here!\n",
    "p = p = stats.t.sf(sm, loc=m0, scale=ss/np.sqrt(n), df=n-1)\n",
    "print(\"p-value: %.5f\" % p)\n",
    "if(p < a):\n",
    "    print(\"p < a: reject H0\")\n",
    "else:\n",
    "    print(\"p > a: do not reject H0\")"
   ],
   "metadata": {
    "collapsed": false,
    "pycharm": {
     "name": "#%%\n"
    }
   }
  },
  {
   "cell_type": "code",
   "execution_count": null,
   "outputs": [],
   "source": [
    "g = stats.t.isf(a, loc=m0, scale=ss/np.sqrt(n), df=n-1)\n",
    "print(\"Critical value g ≃ %.3f\" % g)\n",
    "if (sm < g):\n",
    "    print(\"sample mean = %.3f < g = %.3f: do not reject H0\" % (sm, g))\n",
    "else:\n",
    "    print(\"sample mean = %.3f > g = %.3f: reject H0\" % (sm, g))"
   ],
   "metadata": {
    "collapsed": false,
    "pycharm": {
     "name": "#%%\n"
    }
   }
  },
  {
   "cell_type": "code",
   "execution_count": null,
   "outputs": [],
   "source": [
    "# Gauss-curve\n",
    "# X-values\n",
    "dist_x = np.linspace(m0 - 4 * ss/np.sqrt(n), m0 + 4 * ss/np.sqrt(n), num=201)\n",
    "# Y-values\n",
    "dist_y = stats.t.pdf(dist_x, loc=m0, scale=ss/np.sqrt(n), df=n-1)\n",
    "fig, dplot = plt.subplots(1, 1)\n",
    "# Plot\n",
    "dplot.plot(dist_x, dist_y)\n",
    "# Hypothetical population mean in orange\n",
    "dplot.axvline(m0, color=\"orange\", lw=2)\n",
    "# Sample mean in red\n",
    "dplot.axvline(sm, color=\"red\")\n",
    "# Fill the acceptance region in light blue\n",
    "dplot.fill_between(dist_x, 0, dist_y, where=dist_x <= g, color='lightblue')"
   ],
   "metadata": {
    "collapsed": false,
    "pycharm": {
     "name": "#%%\n"
    }
   }
  }
 ],
 "metadata": {
  "kernelspec": {
   "display_name": "Python 3",
   "language": "python",
   "name": "python3"
  },
  "language_info": {
   "codemirror_mode": {
    "name": "ipython",
    "version": 2
   },
   "file_extension": ".py",
   "mimetype": "text/x-python",
   "name": "python",
   "nbconvert_exporter": "python",
   "pygments_lexer": "ipython2",
   "version": "2.7.6"
  }
 },
 "nbformat": 4,
 "nbformat_minor": 0
}